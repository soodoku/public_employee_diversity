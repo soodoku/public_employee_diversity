{
 "cells": [
  {
   "cell_type": "markdown",
   "metadata": {},
   "source": [
    "Todo:\n",
    "1)year by year breakdown of florida code is runnning (needed to get the names of non deduped list since employee in multiple years)      \n",
    "\n",
    "2)Need to clean up some charts...remove the first chart, add some state means from census\n",
    "\n",
    "3) Department and titles some files have and some dont...lots of job titles...looksl like tedious work\n",
    "\n",
    "4)for states w/ time series time trend"
   ]
  },
  {
   "cell_type": "code",
   "execution_count": 1,
   "metadata": {},
   "outputs": [
    {
     "name": "stderr",
     "output_type": "stream",
     "text": [
      "Using TensorFlow backend.\n"
     ]
    }
   ],
   "source": [
    "from ethnicolr import census_ln, pred_census_ln, pred_wiki_ln, pred_wiki_name, pred_fl_reg_ln, pred_fl_reg_name\n",
    "import pandas as pd\n",
    "from os import listdir\n",
    "from os.path import isfile, join\n",
    "\n",
    "root = '/Users/seunglee/Downloads/project/'\n"
   ]
  },
  {
   "cell_type": "markdown",
   "metadata": {},
   "source": [
    "Unzip the .7z files to one directory...here it's \"raw_data\""
   ]
  },
  {
   "cell_type": "code",
   "execution_count": 2,
   "metadata": {},
   "outputs": [],
   "source": [
    "onlyfiles = [f for f in listdir(root+'raw_data') if (isfile(join(root+'raw_data', f))) & ('.csv' in f)]\n",
    "pay_map = {'state':'Total Compensation', 'cities':'Salary', 'k12':'Salary', 'counties':'Salary', 'university':'Annual Salary'}\n"
   ]
  },
  {
   "cell_type": "markdown",
   "metadata": {},
   "source": [
    "\n",
    "\n",
    "Data description over years government"
   ]
  },
  {
   "cell_type": "code",
   "execution_count": 30,
   "metadata": {},
   "outputs": [
    {
     "name": "stdout",
     "output_type": "stream",
     "text": [
      "state_1995_2014.csv\n",
      "cities_1995_2014.csv\n",
      "k12_1997_2014.csv\n",
      "counties_1995_2014.csv\n",
      "university_2014.csv\n"
     ]
    }
   ],
   "source": [
    "def get_stats(df, counter, name, year='not specified'):\n",
    "    df_description = pd.DataFrame()\n",
    "    df_description.loc[counter, 'gov'] = name\n",
    "    df_description.loc[counter, 'year'] = year\n",
    "    df_description.loc[counter, 'state'] = 'fl'\n",
    "    df_description.loc[counter, 'observations'] = df.shape[0]\n",
    "    df_description.loc[counter, 'salary_avg'] = df[pay].mean()/1e3\n",
    "    df_description.loc[counter, 'salary_median'] = df[pay].median()/1e3\n",
    "    df_description.loc[counter, 'salary_min'] = df[pay].min()/1e3\n",
    "    df_description.loc[counter, 'salary_max'] = df[pay].max()/1e3\n",
    "    df_description.loc[counter, 'salary_std'] = df[pay].std()/1e3    \n",
    "    return df_description\n",
    "\n",
    "df_description = pd.DataFrame()\n",
    "counter=0\n",
    "for f in onlyfiles:\n",
    "    df = pd.read_csv(root+'raw_data/'+f)\n",
    "    name = f.split('_')[0]\n",
    "    pay = pay_map[name]\n",
    "    if(df[pay].dtype=='O'):\n",
    "        df[pay] = df[pay].str.replace('$', '')\n",
    "        df[pay] = df[pay].str.replace(',', '')\n",
    "        df[pay] = df[pay].astype('double')\n",
    "    df = df.loc[df[pay]>0]\n",
    "    if('Year' in df.columns):\n",
    "        for year in df.Year.unique():\n",
    "            df_temp = df.loc[df.Year==year]\n",
    "            df_description = df_description.append(get_stats(df_temp, counter, name, year=year))\n",
    "            counter+=1\n",
    "        df_description = df_description.append(get_stats(df, counter, name, year='all'))\n",
    "        counter+=1\n",
    "    else:\n",
    "        df_description = df_description.append(get_stats(df, counter, name))\n",
    "        counter+=1\n",
    "    print(f)\n",
    "\n"
   ]
  },
  {
   "cell_type": "code",
   "execution_count": 33,
   "metadata": {},
   "outputs": [
    {
     "data": {
      "text/html": [
       "<div>\n",
       "<style scoped>\n",
       "    .dataframe tbody tr th:only-of-type {\n",
       "        vertical-align: middle;\n",
       "    }\n",
       "\n",
       "    .dataframe tbody tr th {\n",
       "        vertical-align: top;\n",
       "    }\n",
       "\n",
       "    .dataframe thead th {\n",
       "        text-align: right;\n",
       "    }\n",
       "</style>\n",
       "<table border=\"1\" class=\"dataframe\">\n",
       "  <thead>\n",
       "    <tr style=\"text-align: right;\">\n",
       "      <th></th>\n",
       "      <th>gov</th>\n",
       "      <th>year</th>\n",
       "      <th>state</th>\n",
       "      <th>observations</th>\n",
       "      <th>salary_avg</th>\n",
       "      <th>salary_median</th>\n",
       "      <th>salary_min</th>\n",
       "      <th>salary_max</th>\n",
       "      <th>salary_std</th>\n",
       "    </tr>\n",
       "  </thead>\n",
       "  <tbody>\n",
       "    <tr>\n",
       "      <th>35</th>\n",
       "      <td>cities</td>\n",
       "      <td>1997</td>\n",
       "      <td>fl</td>\n",
       "      <td>4178.0</td>\n",
       "      <td>22.114831</td>\n",
       "      <td>21.340345</td>\n",
       "      <td>0.00757</td>\n",
       "      <td>154.33210</td>\n",
       "      <td>11.285824</td>\n",
       "    </tr>\n",
       "    <tr>\n",
       "      <th>34</th>\n",
       "      <td>cities</td>\n",
       "      <td>1998</td>\n",
       "      <td>fl</td>\n",
       "      <td>4358.0</td>\n",
       "      <td>21.857303</td>\n",
       "      <td>21.679095</td>\n",
       "      <td>0.02656</td>\n",
       "      <td>105.20449</td>\n",
       "      <td>12.532980</td>\n",
       "    </tr>\n",
       "    <tr>\n",
       "      <th>33</th>\n",
       "      <td>cities</td>\n",
       "      <td>1999</td>\n",
       "      <td>fl</td>\n",
       "      <td>4088.0</td>\n",
       "      <td>23.155537</td>\n",
       "      <td>23.080510</td>\n",
       "      <td>0.00289</td>\n",
       "      <td>106.06240</td>\n",
       "      <td>13.210714</td>\n",
       "    </tr>\n",
       "    <tr>\n",
       "      <th>32</th>\n",
       "      <td>cities</td>\n",
       "      <td>2000</td>\n",
       "      <td>fl</td>\n",
       "      <td>3938.0</td>\n",
       "      <td>24.477641</td>\n",
       "      <td>24.509655</td>\n",
       "      <td>0.06206</td>\n",
       "      <td>106.07719</td>\n",
       "      <td>14.595703</td>\n",
       "    </tr>\n",
       "    <tr>\n",
       "      <th>31</th>\n",
       "      <td>cities</td>\n",
       "      <td>2001</td>\n",
       "      <td>fl</td>\n",
       "      <td>3927.0</td>\n",
       "      <td>25.465908</td>\n",
       "      <td>25.415780</td>\n",
       "      <td>0.00800</td>\n",
       "      <td>114.87889</td>\n",
       "      <td>15.156329</td>\n",
       "    </tr>\n",
       "  </tbody>\n",
       "</table>\n",
       "</div>"
      ],
      "text/plain": [
       "       gov  year state  observations  salary_avg  salary_median  salary_min  \\\n",
       "35  cities  1997    fl        4178.0   22.114831      21.340345     0.00757   \n",
       "34  cities  1998    fl        4358.0   21.857303      21.679095     0.02656   \n",
       "33  cities  1999    fl        4088.0   23.155537      23.080510     0.00289   \n",
       "32  cities  2000    fl        3938.0   24.477641      24.509655     0.06206   \n",
       "31  cities  2001    fl        3927.0   25.465908      25.415780     0.00800   \n",
       "\n",
       "    salary_max  salary_std  \n",
       "35   154.33210   11.285824  \n",
       "34   105.20449   12.532980  \n",
       "33   106.06240   13.210714  \n",
       "32   106.07719   14.595703  \n",
       "31   114.87889   15.156329  "
      ]
     },
     "execution_count": 33,
     "metadata": {},
     "output_type": "execute_result"
    }
   ],
   "source": [
    "df_description.sort_values(by=['gov', 'year'], inplace=True)\n",
    "df_description.head()"
   ]
  },
  {
   "cell_type": "markdown",
   "metadata": {},
   "source": [
    "Imputes race for all the data files... The output is compressed and saved to \"employee_race\" subdirectory."
   ]
  },
  {
   "cell_type": "code",
   "execution_count": null,
   "metadata": {},
   "outputs": [
    {
     "name": "stdout",
     "output_type": "stream",
     "text": [
      "WARNING:tensorflow:From /Users/seunglee/opt/anaconda3/lib/python3.7/site-packages/keras/backend/tensorflow_backend.py:74: The name tf.get_default_graph is deprecated. Please use tf.compat.v1.get_default_graph instead.\n",
      "\n",
      "WARNING:tensorflow:From /Users/seunglee/opt/anaconda3/lib/python3.7/site-packages/keras/backend/tensorflow_backend.py:517: The name tf.placeholder is deprecated. Please use tf.compat.v1.placeholder instead.\n",
      "\n",
      "WARNING:tensorflow:From /Users/seunglee/opt/anaconda3/lib/python3.7/site-packages/keras/backend/tensorflow_backend.py:4138: The name tf.random_uniform is deprecated. Please use tf.random.uniform instead.\n",
      "\n",
      "WARNING:tensorflow:From /Users/seunglee/opt/anaconda3/lib/python3.7/site-packages/keras/backend/tensorflow_backend.py:133: The name tf.placeholder_with_default is deprecated. Please use tf.compat.v1.placeholder_with_default instead.\n",
      "\n",
      "WARNING:tensorflow:From /Users/seunglee/opt/anaconda3/lib/python3.7/site-packages/keras/backend/tensorflow_backend.py:3445: calling dropout (from tensorflow.python.ops.nn_ops) with keep_prob is deprecated and will be removed in a future version.\n",
      "Instructions for updating:\n",
      "Please use `rate` instead of `keep_prob`. Rate should be set to `rate = 1 - keep_prob`.\n",
      "WARNING:tensorflow:From /Users/seunglee/opt/anaconda3/lib/python3.7/site-packages/keras/backend/tensorflow_backend.py:174: The name tf.get_default_session is deprecated. Please use tf.compat.v1.get_default_session instead.\n",
      "\n",
      "WARNING:tensorflow:From /Users/seunglee/opt/anaconda3/lib/python3.7/site-packages/keras/optimizers.py:790: The name tf.train.Optimizer is deprecated. Please use tf.compat.v1.train.Optimizer instead.\n",
      "\n",
      "WARNING:tensorflow:From /Users/seunglee/opt/anaconda3/lib/python3.7/site-packages/tensorflow/python/ops/math_grad.py:1250: add_dispatch_support.<locals>.wrapper (from tensorflow.python.ops.array_ops) is deprecated and will be removed in a future version.\n",
      "Instructions for updating:\n",
      "Use tf.where in 2.0, which has the same broadcast rule as np.where\n",
      "done: state_1995_2014.csv\n",
      "done: cities_1995_2014.csv\n",
      "done: k12_1997_2014.csv\n"
     ]
    }
   ],
   "source": [
    "for f in onlyfiles:\n",
    "    df = pd.read_csv(root+'raw_data/'+f)\n",
    "    df['ln'] = df['Employee Name'].str.split(',').str[0].str.lower()\n",
    "    df['fn'] = df['Employee Name'].str.split(',').str[1].str.split(' ').str[1].str.strip()\n",
    "    original_columns = list(df.columns)\n",
    "\n",
    "    models_str = []\n",
    "    for model in [census_ln, pred_census_ln, pred_wiki_ln, pred_wiki_name, pred_fl_reg_ln, pred_fl_reg_name]:\n",
    "        model_name = model.__name__\n",
    "        models_str.append('race_'+model_name)\n",
    "        if(model_name=='census_ln'): \n",
    "            df = model(df, 'ln')\n",
    "            df.replace('(S)', '0', inplace=True)\n",
    "            race_cols = df.columns[df.columns.str.startswith('pct')]\n",
    "            for col in race_cols:\n",
    "                df[col] = df[col].astype('double')\n",
    "            df['race'] = df[race_cols].idxmax(axis=1)\n",
    "        elif(model_name=='pred_wiki_name'):\n",
    "            df = model(df, 'fn', 'ln')\n",
    "        elif(model_name=='pred_fl_reg_name'):\n",
    "            df = model(df, lname_col='ln', fname_col='fn')\n",
    "        else:\n",
    "            df = model(df, 'ln')\n",
    "        \n",
    "        df.rename(columns={'race':'race_'+model_name}, inplace=True) \n",
    "    df = df[original_columns+models_str]\n",
    "    df.to_csv(root+'employee_race/data/'+f.replace('.csv','_race.gz'), compression='gzip')\n",
    "    print('done:', f)"
   ]
  },
  {
   "cell_type": "markdown",
   "metadata": {},
   "source": [
    "Get distribution of races implied by the models\n"
   ]
  },
  {
   "cell_type": "code",
   "execution_count": 228,
   "metadata": {},
   "outputs": [],
   "source": [
    "race_summary_not_wiki = pd.DataFrame()\n",
    "race_summary_wiki = pd.DataFrame()\n",
    "models = ['race_census_ln', 'race_pred_census_ln', 'race_pred_wiki_ln', 'race_pred_wiki_name',\n",
    "          'race_pred_fl_reg_ln', 'race_pred_fl_reg_name']\n",
    "for f in onlyfiles:\n",
    "    temp = pd.read_csv(root+'employee_race/data/'+f, compression='gzip', index_col=[0])\n",
    "    \n",
    "    for model in models:\n",
    "        temp_summary = pd.DataFrame(temp[model].value_counts()/temp.shape[0])\n",
    "        temp_summary = temp_summary.T\n",
    "        temp_summary['file'] = f.split('_')[0]\n",
    "        if(model=='race_census_ln'):\n",
    "            temp_summary.rename(columns={'pctwhite':'white', 'pcthispanic':'hispanic',\n",
    "                                         'pctblack':'black', 'pctapi':'asian'}, inplace=True)\n",
    "            temp_summary.drop(columns=['pct2prace', 'pctaian'], inplace=True)\n",
    "            race_summary_not_wiki = race_summary_not_wiki.append(temp_summary)\n",
    "        # ignore wiki models\n",
    "        elif('wiki' in model):\n",
    "            continue\n",
    "            race_summary_wiki = race_summary_wiki.append(temp_summary)\n",
    "        else:\n",
    "            temp_summary.rename(columns={'nh_white':'white', 'nh_black':'black', 'api':'asian'}, inplace=True)            \n",
    "            race_summary_not_wiki = race_summary_not_wiki.append(temp_summary)\n",
    "            \n",
    "#race_summary_wiki.to_csv(root+'employee_race/data/race_summary_wiki.csv')\n",
    "race_summary_not_wiki.to_csv(root+'employee_race/data/race_summary_not_wiki.csv')\n",
    "\n"
   ]
  },
  {
   "cell_type": "markdown",
   "metadata": {},
   "source": [
    "State mean from 2010 census.\n",
    "https://en.wikipedia.org/wiki/Demographics_of_Florida"
   ]
  },
  {
   "cell_type": "code",
   "execution_count": 290,
   "metadata": {},
   "outputs": [
    {
     "data": {
      "image/png": "[encoded data removed]",
      "text/plain": [
       "<Figure size 720x576 with 2 Axes>"
      ]
     },
     "metadata": {
      "needs_background": "light"
     },
     "output_type": "display_data"
    }
   ],
   "source": [
    "\n",
    "import matplotlib.pyplot as plt\n",
    "import numpy as np\n",
    "\"\"\"\n",
    "data = race_summary_not_wiki[['asian', 'black', 'hispanic', 'white']]\n",
    "fig, ax = plt.subplots(2, 1, figsize=(10, 8))\n",
    "ax[0].boxplot(data.values)\n",
    "ax[0].set_title('Race composition')\n",
    "ax[0].set_xticklabels(['asian', 'black', 'hispanic', 'white'])\n",
    "ax[1].boxplot(np.log10(data.values))\n",
    "ax[1].set_xticklabels(['asian', 'black', 'hispanic', 'white'])\n",
    "ax[1].set_title('log base 10 race composition')\n",
    "ax[0].annotate('models mean '+str(np.round(race_summary_not_wiki.asian.mean(),3)), xy=(.1, .65), xycoords='figure fraction')\n",
    "ax[0].annotate('state mean .005', xy=(.1, .63), xycoords='figure fraction')\n",
    "ax[0].annotate('models mean '+str(np.round(race_summary_not_wiki.black.mean(),3)), xy=(.32, .65), xycoords='figure fraction')\n",
    "ax[0].annotate('state mean .169', xy=(.32, .63), xycoords='figure fraction')\n",
    "ax[0].annotate('models mean '+str(np.round(race_summary_not_wiki.hispanic.mean(),3)), xy=(.55, .65), xycoords='figure fraction')\n",
    "ax[0].annotate('state mean .256', xy=(.55, .63), xycoords='figure fraction')\n",
    "ax[0].annotate('models mean '+str(np.round(race_summary_not_wiki.white.mean(),3)), xy=(.77, .65), xycoords='figure fraction')\n",
    "ax[0].annotate('state mean .541', xy=(.77, .63), xycoords='figure fraction')\n",
    "plt.suptitle('Race composition variation by models')\n",
    "plt.show()\n",
    "\"\"\""
   ]
  },
  {
   "cell_type": "code",
   "execution_count": 297,
   "metadata": {},
   "outputs": [
    {
     "data": {
      "text/html": [
       "<div>\n",
       "<style scoped>\n",
       "    .dataframe tbody tr th:only-of-type {\n",
       "        vertical-align: middle;\n",
       "    }\n",
       "\n",
       "    .dataframe tbody tr th {\n",
       "        vertical-align: top;\n",
       "    }\n",
       "\n",
       "    .dataframe thead th {\n",
       "        text-align: right;\n",
       "    }\n",
       "</style>\n",
       "<table border=\"1\" class=\"dataframe\">\n",
       "  <thead>\n",
       "    <tr style=\"text-align: right;\">\n",
       "      <th></th>\n",
       "      <th>asian</th>\n",
       "      <th>black</th>\n",
       "      <th>hispanic</th>\n",
       "      <th>white</th>\n",
       "    </tr>\n",
       "    <tr>\n",
       "      <th>file</th>\n",
       "      <th></th>\n",
       "      <th></th>\n",
       "      <th></th>\n",
       "      <th></th>\n",
       "    </tr>\n",
       "  </thead>\n",
       "  <tbody>\n",
       "    <tr>\n",
       "      <th>cities</th>\n",
       "      <td>0.006208</td>\n",
       "      <td>0.052275</td>\n",
       "      <td>0.078043</td>\n",
       "      <td>0.840693</td>\n",
       "    </tr>\n",
       "    <tr>\n",
       "      <th>counties</th>\n",
       "      <td>0.008109</td>\n",
       "      <td>0.050168</td>\n",
       "      <td>0.116789</td>\n",
       "      <td>0.797239</td>\n",
       "    </tr>\n",
       "    <tr>\n",
       "      <th>k12</th>\n",
       "      <td>0.007688</td>\n",
       "      <td>0.053522</td>\n",
       "      <td>0.128037</td>\n",
       "      <td>0.779791</td>\n",
       "    </tr>\n",
       "    <tr>\n",
       "      <th>state</th>\n",
       "      <td>0.009229</td>\n",
       "      <td>0.063880</td>\n",
       "      <td>0.082924</td>\n",
       "      <td>0.811701</td>\n",
       "    </tr>\n",
       "    <tr>\n",
       "      <th>university</th>\n",
       "      <td>0.054328</td>\n",
       "      <td>0.040263</td>\n",
       "      <td>0.097176</td>\n",
       "      <td>0.769101</td>\n",
       "    </tr>\n",
       "  </tbody>\n",
       "</table>\n",
       "</div>"
      ],
      "text/plain": [
       "               asian     black  hispanic     white\n",
       "file                                              \n",
       "cities      0.006208  0.052275  0.078043  0.840693\n",
       "counties    0.008109  0.050168  0.116789  0.797239\n",
       "k12         0.007688  0.053522  0.128037  0.779791\n",
       "state       0.009229  0.063880  0.082924  0.811701\n",
       "university  0.054328  0.040263  0.097176  0.769101"
      ]
     },
     "execution_count": 297,
     "metadata": {},
     "output_type": "execute_result"
    }
   ],
   "source": [
    "race_gb = race_summary_not_wiki.groupby('file').mean()\n",
    "race_gb"
   ]
  },
  {
   "cell_type": "code",
   "execution_count": 330,
   "metadata": {},
   "outputs": [
    {
     "data": {
      "text/plain": [
       "[Text(0, 0, 'cities'),\n",
       " Text(0, 0, 'counties'),\n",
       " Text(0, 0, 'k12'),\n",
       " Text(0, 0, 'state'),\n",
       " Text(0, 0, 'university')]"
      ]
     },
     "execution_count": 330,
     "metadata": {},
     "output_type": "execute_result"
    },
    {
     "data": {
      "image/png": "[encoded data removed]",
      "text/plain": [
       "<Figure size 720x576 with 2 Axes>"
      ]
     },
     "metadata": {
      "needs_background": "light"
     },
     "output_type": "display_data"
    }
   ],
   "source": [
    "x = np.arange(len(race_gb))  \n",
    "width = 0.35 \n",
    "margin = 0.05\n",
    "width = (1.-2.*margin)/len(race_gb)\n",
    "\n",
    "fig, ax = plt.subplots(2, 1, figsize=(10, 8))\n",
    "ax[0].bar(x - 5*width/4, race_gb.asian, width, label='asian')\n",
    "ax[0].bar(x - width/4, race_gb.black, width, label='black')\n",
    "ax[0].bar(x + 3*width/4, race_gb.hispanic, width, label='hispanic')\n",
    "ax[0].set_ylabel('ratio proportion')\n",
    "ax[0].set_title('Non white race share by institution')\n",
    "ax[0].set_xticks(x)\n",
    "ax[0].set_xticklabels(race_gb.index)\n",
    "ax[0].legend()\n",
    "\"\"\"\n",
    "ax[1].bar(x, race_gb.white, width, label='white')\n",
    "ax[1].set_ylim([.75, .89])\n",
    "ax[1].set_ylabel('ratio proportion')\n",
    "ax[1].set_title('White race share by institution')\n",
    "ax[1].set_xticks(x)\n",
    "ax[1].set_xticklabels(race_gb.index)\n",
    "\"\"\""
   ]
  }
 ],
 "metadata": {
  "kernelspec": {
   "display_name": "Python 3",
   "language": "python",
   "name": "python3"
  },
  "language_info": {
   "codemirror_mode": {
    "name": "ipython",
    "version": 3
   },
   "file_extension": ".py",
   "mimetype": "text/x-python",
   "name": "python",
   "nbconvert_exporter": "python",
   "pygments_lexer": "ipython3",
   "version": "3.7.4"
  }
 },
 "nbformat": 4,
 "nbformat_minor": 2
}
