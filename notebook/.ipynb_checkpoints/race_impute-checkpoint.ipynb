{
 "cells": [
  {
   "cell_type": "code",
   "execution_count": null,
   "metadata": {},
   "outputs": [],
   "source": [
    "from ethnicolr import census_ln\n",
    "import pandas as pd\n",
    "from os import listdir\n",
    "from os.path import isfile, join\n",
    "\n",
    "root = '/Users/seunglee/Downloads/project/'"
   ]
  },
  {
   "cell_type": "markdown",
   "metadata": {},
   "source": [
    "Unzip the .7z files to one directory...here it's raw_data"
   ]
  },
  {
   "cell_type": "code",
   "execution_count": null,
   "metadata": {},
   "outputs": [],
   "source": [
    "onlyfiles = [f for f in listdir(root+'raw_data') if isfile(join(root+'raw_data', f))]"
   ]
  },
  {
   "cell_type": "markdown",
   "metadata": {},
   "source": [
    "Imputes race for all the data files....pred_fl_reg_name generates more matches than census.  The output is compressed."
   ]
  },
  {
   "cell_type": "code",
   "execution_count": null,
   "metadata": {},
   "outputs": [],
   "source": [
    "for f in onlyfiles:\n",
    "    df = pd.read_csv(root+'raw_data/'+f)\n",
    "    original_columns = df.columns\n",
    "    df['ln'] = df['Employee Name'].str.split(',').str[0].str.lower()\n",
    "    df.drop_duplicates(subset='Employee Name', inplace=True)\n",
    "    \n",
    "    # More Matches\n",
    "    #df = pred_fl_reg_name(df3, 'ln', 'fn')\n",
    "    \n",
    "    df = census_ln(df, 'ln')\n",
    "    df.replace('(S)', '0', inplace=True)\n",
    "    race_cols = df.columns[df.columns.str.startswith('pct')]\n",
    "    \n",
    "    for col in race_cols:\n",
    "        df[col] = df[col].astype('double')\n",
    "    df['race'] = df[race_cols].idxmax(axis=1)\n",
    "    \n",
    "    df[list(original_columns)+['ln', 'race']].to_csv(root+'employee_race/data/'+f.replace('.csv','_race.gz'), compression='gzip')\n",
    "    print('finished:', f)"
   ]
  }
 ],
 "metadata": {
  "kernelspec": {
   "display_name": "Python 3",
   "language": "python",
   "name": "python3"
  },
  "language_info": {
   "codemirror_mode": {
    "name": "ipython",
    "version": 3
   },
   "file_extension": ".py",
   "mimetype": "text/x-python",
   "name": "python",
   "nbconvert_exporter": "python",
   "pygments_lexer": "ipython3",
   "version": "3.7.4"
  }
 },
 "nbformat": 4,
 "nbformat_minor": 2
}
